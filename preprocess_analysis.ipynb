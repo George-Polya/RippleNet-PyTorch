{
 "cells": [
  {
   "cell_type": "code",
   "execution_count": 68,
   "metadata": {},
   "outputs": [],
   "source": [
    "import argparse\n",
    "import numpy as np\n",
    "\n",
    "RATING_FILE_NAME = dict({'movie': 'ratings.dat', 'book': 'BX-Book-Ratings.csv', 'news': 'ratings.txt'})\n",
    "SEP = dict({'movie': '::', 'book': ';', 'news': '\\t'})\n",
    "THRESHOLD = dict({'movie': 4, 'book': 0, 'news': 0})\n",
    "\n",
    "args = argparse.Namespace()\n",
    "args.dataset=\"naver\"\n",
    "DATASET = args.dataset\n",
    "entity_id2index = dict()\n",
    "relation_id2index = dict()\n",
    "item_index_old2new = dict()"
   ]
  },
  {
   "cell_type": "code",
   "execution_count": 7,
   "metadata": {},
   "outputs": [
    {
     "name": "stdout",
     "output_type": "stream",
     "text": [
      "reading item index to entity id file: ./data/movie/item_index2entity_id_rehashed.txt ...\n"
     ]
    }
   ],
   "source": [
    "def read_item_index_to_entity_id_file():\n",
    "    file = './data/' + DATASET + '/item_index2entity_id_rehashed.txt'\n",
    "    print('reading item index to entity id file: ' + file + ' ...')\n",
    "    i = 0\n",
    "    for line in open(file, encoding='utf-8').readlines():\n",
    "        item_index = line.strip().split('\\t')[0]\n",
    "        satori_id = line.strip().split('\\t')[1]\n",
    "        item_index_old2new[item_index] = i\n",
    "        entity_id2index[satori_id] = i\n",
    "        i += 1\n",
    "read_item_index_to_entity_id_file()"
   ]
  },
  {
   "cell_type": "code",
   "execution_count": 30,
   "metadata": {},
   "outputs": [
    {
     "name": "stdout",
     "output_type": "stream",
     "text": [
      "reading rating file ...\n"
     ]
    }
   ],
   "source": []
  },
  {
   "cell_type": "code",
   "execution_count": 31,
   "metadata": {},
   "outputs": [],
   "source": []
  },
  {
   "cell_type": "code",
   "execution_count": 62,
   "metadata": {},
   "outputs": [],
   "source": [
    "def negative_samplig(user_set, user_pos_ratings):\n",
    "    neg_items = dict()\n",
    "    for user_idx in user_set:\n",
    "        neg_items[user_idx] = set()\n",
    "    for user_idx in user_set:\n",
    "        \n",
    "        while True:\n",
    "            neg_item = np.random.randint(low=0, high=len(item_set), size=1)[0]\n",
    "            if neg_item in user_pos_ratings[user_idx]:\n",
    "                continue\n",
    "            # print(user_idx, neg_item)\n",
    "            neg_items[user_idx].add(neg_item)\n",
    "            if len(neg_items[user_idx]) == len(user_pos_ratings[user_idx]):\n",
    "                break\n",
    "    return neg_items\n",
    "\n"
   ]
  },
  {
   "cell_type": "code",
   "execution_count": 63,
   "metadata": {},
   "outputs": [
    {
     "name": "stdout",
     "output_type": "stream",
     "text": [
      "reading rating file ...\n"
     ]
    }
   ],
   "source": [
    "\n",
    "\n",
    "file = './data/' + DATASET + '/' + RATING_FILE_NAME[DATASET]\n",
    "\n",
    "print('reading rating file ...')\n",
    "item_set = set(item_index_old2new.values())\n",
    "user_pos_ratings = dict()\n",
    "user_neg_ratings = dict()\n",
    "\n",
    "for line in open(file, encoding='utf-8').readlines()[1:]:\n",
    "    array = line.strip().split(SEP[DATASET])\n",
    "\n",
    "    # remove prefix and suffix quotation marks for BX dataset\n",
    "    if DATASET == 'book':\n",
    "        array = list(map(lambda x: x[1:-1], array))\n",
    "\n",
    "    item_index_old = array[1]\n",
    "    if item_index_old not in item_index_old2new:  # the item is not in the final item set\n",
    "        continue\n",
    "    item_index = item_index_old2new[item_index_old]\n",
    "\n",
    "    user_index_old = int(array[0])\n",
    "\n",
    "    rating = float(array[2])\n",
    "    \n",
    "    \n",
    "    if user_index_old not in user_pos_ratings:\n",
    "        user_pos_ratings[user_index_old] = set()\n",
    "    user_pos_ratings[user_index_old].add(item_index)\n",
    "\n",
    "user_set = set(user_pos_ratings.keys())    \n",
    "user_neg_ratings = negative_samplig(user_set, user_pos_ratings)    \n",
    "\n",
    "    \n"
   ]
  },
  {
   "cell_type": "code",
   "execution_count": 66,
   "metadata": {},
   "outputs": [
    {
     "name": "stdout",
     "output_type": "stream",
     "text": [
      "converting rating file ...\n"
     ]
    },
    {
     "ename": "ValueError",
     "evalue": "Cannot take a larger sample than population when 'replace=False'",
     "output_type": "error",
     "traceback": [
      "\u001b[0;31m---------------------------------------------------------------------------\u001b[0m",
      "\u001b[0;31mValueError\u001b[0m                                Traceback (most recent call last)",
      "\u001b[0;32m/tmp/ipykernel_38641/651924887.py\u001b[0m in \u001b[0;36m<module>\u001b[0;34m\u001b[0m\n\u001b[1;32m     14\u001b[0m     \u001b[0;32mif\u001b[0m \u001b[0muser_index_old\u001b[0m \u001b[0;32min\u001b[0m \u001b[0muser_neg_ratings\u001b[0m\u001b[0;34m:\u001b[0m\u001b[0;34m\u001b[0m\u001b[0m\n\u001b[1;32m     15\u001b[0m         \u001b[0munwatched_set\u001b[0m \u001b[0;34m-=\u001b[0m \u001b[0muser_neg_ratings\u001b[0m\u001b[0;34m[\u001b[0m\u001b[0muser_index_old\u001b[0m\u001b[0;34m]\u001b[0m\u001b[0;34m\u001b[0m\u001b[0m\n\u001b[0;32m---> 16\u001b[0;31m     \u001b[0;32mfor\u001b[0m \u001b[0mitem\u001b[0m \u001b[0;32min\u001b[0m \u001b[0mnp\u001b[0m\u001b[0;34m.\u001b[0m\u001b[0mrandom\u001b[0m\u001b[0;34m.\u001b[0m\u001b[0mchoice\u001b[0m\u001b[0;34m(\u001b[0m\u001b[0mlist\u001b[0m\u001b[0;34m(\u001b[0m\u001b[0munwatched_set\u001b[0m\u001b[0;34m)\u001b[0m\u001b[0;34m,\u001b[0m \u001b[0msize\u001b[0m\u001b[0;34m=\u001b[0m\u001b[0mlen\u001b[0m\u001b[0;34m(\u001b[0m\u001b[0mpos_item_set\u001b[0m\u001b[0;34m)\u001b[0m\u001b[0;34m,\u001b[0m \u001b[0mreplace\u001b[0m\u001b[0;34m=\u001b[0m\u001b[0;32mFalse\u001b[0m\u001b[0;34m)\u001b[0m\u001b[0;34m:\u001b[0m\u001b[0;34m\u001b[0m\u001b[0m\n\u001b[0m\u001b[1;32m     17\u001b[0m         \u001b[0mwriter\u001b[0m\u001b[0;34m.\u001b[0m\u001b[0mwrite\u001b[0m\u001b[0;34m(\u001b[0m\u001b[0;34m'%d\\t%d\\t0\\n'\u001b[0m \u001b[0;34m%\u001b[0m \u001b[0;34m(\u001b[0m\u001b[0muser_index\u001b[0m\u001b[0;34m,\u001b[0m \u001b[0mitem\u001b[0m\u001b[0;34m)\u001b[0m\u001b[0;34m)\u001b[0m\u001b[0;34m\u001b[0m\u001b[0m\n\u001b[1;32m     18\u001b[0m \u001b[0mwriter\u001b[0m\u001b[0;34m.\u001b[0m\u001b[0mclose\u001b[0m\u001b[0;34m(\u001b[0m\u001b[0;34m)\u001b[0m\u001b[0;34m\u001b[0m\u001b[0m\n",
      "\u001b[0;32mmtrand.pyx\u001b[0m in \u001b[0;36mnumpy.random.mtrand.RandomState.choice\u001b[0;34m()\u001b[0m\n",
      "\u001b[0;31mValueError\u001b[0m: Cannot take a larger sample than population when 'replace=False'"
     ]
    }
   ],
   "source": [
    "\n",
    "print('converting rating file ...')\n",
    "writer = open('./data/' + DATASET + '/ratings_final_temp.txt', 'w', encoding='utf-8')\n",
    "user_cnt = 0\n",
    "user_index_old2new = dict()\n",
    "for user_index_old, pos_item_set in user_pos_ratings.items():\n",
    "    if user_index_old not in user_index_old2new:\n",
    "        user_index_old2new[user_index_old] = user_cnt\n",
    "        user_cnt += 1\n",
    "    user_index = user_index_old2new[user_index_old]\n",
    "\n",
    "    for item in pos_item_set:\n",
    "        writer.write('%d\\t%d\\t1\\n' % (user_index, item))\n",
    "        \n",
    "    unwatched_set = item_set - pos_item_set\n",
    "    if user_index_old in user_neg_ratings:\n",
    "        unwatched_set -= user_neg_ratings[user_index_old]\n",
    "    for item in np.random.choice(list(unwatched_set), size=len(pos_item_set), replace=False):\n",
    "        writer.write('%d\\t%d\\t0\\n' % (user_index, item))\n",
    "writer.close()\n",
    "print('number of users: %d' % user_cnt)\n",
    "print('number of items: %d' % len(item_set))\n"
   ]
  },
  {
   "cell_type": "code",
   "execution_count": null,
   "metadata": {},
   "outputs": [],
   "source": []
  },
  {
   "cell_type": "code",
   "execution_count": null,
   "metadata": {},
   "outputs": [],
   "source": []
  },
  {
   "cell_type": "code",
   "execution_count": null,
   "metadata": {},
   "outputs": [],
   "source": []
  }
 ],
 "metadata": {
  "interpreter": {
   "hash": "4bdffd226db74f32b1e67dcb50a117797eaf84ad68693423287fabc603b29d02"
  },
  "kernelspec": {
   "display_name": "Python 3.7.0 ('tf2.5')",
   "language": "python",
   "name": "python3"
  },
  "language_info": {
   "codemirror_mode": {
    "name": "ipython",
    "version": 3
   },
   "file_extension": ".py",
   "mimetype": "text/x-python",
   "name": "python",
   "nbconvert_exporter": "python",
   "pygments_lexer": "ipython3",
   "version": "3.7.0"
  },
  "orig_nbformat": 4
 },
 "nbformat": 4,
 "nbformat_minor": 2
}

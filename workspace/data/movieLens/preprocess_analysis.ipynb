{
 "cells": [
  {
   "cell_type": "code",
   "execution_count": 1,
   "metadata": {},
   "outputs": [],
   "source": [
    "import argparse\n",
    "import numpy as np\n",
    "\n",
    "RATING_FILE_NAME = dict({'movie': 'ratings.dat', 'book': 'BX-Book-Ratings.csv', 'news': 'ratings.txt', \"naver\":\"ratings.dat\"})\n",
    "SEP = dict({'movie': '::', 'book': ';', 'news': '\\t', \"naver\":\"::\"})\n",
    "THRESHOLD = dict({'movie': 4, 'book': 0, 'news': 0,\"naver\":4})\n",
    "\n",
    "args = argparse.Namespace()\n",
    "args.dataset=\"naver\"\n",
    "DATASET = args.dataset\n",
    "entity_id2index = dict()\n",
    "relation_id2index = dict()\n",
    "item_index_old2new = dict()"
   ]
  },
  {
   "cell_type": "code",
   "execution_count": 2,
   "metadata": {},
   "outputs": [],
   "source": [
    "np.random.seed(2022)"
   ]
  },
  {
   "cell_type": "code",
   "execution_count": 3,
   "metadata": {},
   "outputs": [
    {
     "data": {
      "text/plain": [
       "[['0', '2286', '5'],\n",
       " ['0', '1267', '5'],\n",
       " ['0', '2734', '5'],\n",
       " ['0', '591', '5'],\n",
       " ['0', '1022', '5']]"
      ]
     },
     "execution_count": 3,
     "metadata": {},
     "output_type": "execute_result"
    }
   ],
   "source": [
    "with open(\"./ratings.dat\", \"r\") as f:\n",
    "    ratings = f.readlines()\n",
    "ratings = [line.replace(\"\\n\",\"\") for line in ratings]\n",
    "ratings = [line.split(\"::\") for line in ratings]\n",
    "ratings[:5]"
   ]
  },
  {
   "cell_type": "code",
   "execution_count": 4,
   "metadata": {},
   "outputs": [],
   "source": [
    "item_set = set()\n",
    "for line in ratings:\n",
    "    item_idx = int(line[1])\n",
    "    item_set.add(item_idx)"
   ]
  },
  {
   "cell_type": "code",
   "execution_count": 5,
   "metadata": {},
   "outputs": [
    {
     "data": {
      "text/plain": [
       "3223"
      ]
     },
     "execution_count": 5,
     "metadata": {},
     "output_type": "execute_result"
    }
   ],
   "source": [
    "len(item_set)"
   ]
  },
  {
   "cell_type": "code",
   "execution_count": 6,
   "metadata": {},
   "outputs": [],
   "source": [
    "def negative_samplig(user_set, user_pos_ratings):\n",
    "    neg_items = dict()\n",
    "    for user_idx in user_set:\n",
    "        neg_items[user_idx] = set()\n",
    "    for user_idx in user_set:\n",
    "        \n",
    "        while True:\n",
    "            neg_item = np.random.randint(low=0, high=len(item_set), size=1)[0]\n",
    "            if neg_item in user_pos_ratings[user_idx]:\n",
    "                continue\n",
    "            # print(user_idx, neg_item)\n",
    "            neg_items[user_idx].add(neg_item)\n",
    "            if len(neg_items[user_idx]) == len(user_pos_ratings[user_idx]):\n",
    "                break\n",
    "    return neg_items\n",
    "\n"
   ]
  },
  {
   "cell_type": "code",
   "execution_count": 7,
   "metadata": {},
   "outputs": [
    {
     "name": "stdout",
     "output_type": "stream",
     "text": [
      "reading rating file ...\n"
     ]
    }
   ],
   "source": [
    "\n",
    "\n",
    "file = './' + RATING_FILE_NAME[DATASET]\n",
    "\n",
    "print('reading rating file ...')\n",
    "\n",
    "user_pos_ratings = dict()\n",
    "user_neg_ratings = dict()\n",
    "\n",
    "for line in open(file, encoding='utf-8').readlines()[1:]:\n",
    "    array = line.strip().split(SEP[DATASET])\n",
    "\n",
    "    # remove prefix and suffix quotation marks for BX dataset\n",
    "    if DATASET == 'book':\n",
    "        array = list(map(lambda x: x[1:-1], array))\n",
    "\n",
    "    # item_index_old = array[1]\n",
    "    # if item_index_old not in item_index_old2new:  # the item is not in the final item set\n",
    "    #     continue\n",
    "    # item_index = item_index_old2new[item_index_old]\n",
    "    item_index = array[1]\n",
    "    user_index = int(array[0])\n",
    "\n",
    "    rating = float(array[2])\n",
    "    \n",
    "    if user_index not in user_pos_ratings:\n",
    "        user_pos_ratings[user_index] = set()\n",
    "    user_pos_ratings[user_index].add(item_index)\n",
    "\n",
    "\n",
    "    \n"
   ]
  },
  {
   "cell_type": "code",
   "execution_count": 8,
   "metadata": {},
   "outputs": [
    {
     "data": {
      "text/plain": [
       "3223"
      ]
     },
     "execution_count": 8,
     "metadata": {},
     "output_type": "execute_result"
    }
   ],
   "source": [
    "len(item_set)"
   ]
  },
  {
   "cell_type": "code",
   "execution_count": 9,
   "metadata": {},
   "outputs": [],
   "source": [
    "user_set = set(user_pos_ratings.keys())    \n",
    "user_neg_ratings = negative_samplig(user_set, user_pos_ratings)    \n"
   ]
  },
  {
   "cell_type": "code",
   "execution_count": 10,
   "metadata": {},
   "outputs": [
    {
     "data": {
      "text/plain": [
       "4814"
      ]
     },
     "execution_count": 10,
     "metadata": {},
     "output_type": "execute_result"
    }
   ],
   "source": [
    "len(user_set)"
   ]
  },
  {
   "cell_type": "code",
   "execution_count": 11,
   "metadata": {},
   "outputs": [
    {
     "data": {
      "text/plain": [
       "set()"
      ]
     },
     "execution_count": 11,
     "metadata": {},
     "output_type": "execute_result"
    }
   ],
   "source": [
    "user_neg_ratings[1].intersection(user_pos_ratings[1])"
   ]
  },
  {
   "cell_type": "code",
   "execution_count": 12,
   "metadata": {},
   "outputs": [
    {
     "data": {
      "text/plain": [
       "16"
      ]
     },
     "execution_count": 12,
     "metadata": {},
     "output_type": "execute_result"
    }
   ],
   "source": [
    "len(user_pos_ratings[0])"
   ]
  },
  {
   "cell_type": "code",
   "execution_count": 13,
   "metadata": {},
   "outputs": [
    {
     "name": "stdout",
     "output_type": "stream",
     "text": [
      "converting rating file ...\n",
      "number of users: 4814\n",
      "number of items: 3223\n"
     ]
    }
   ],
   "source": [
    "\n",
    "print('converting rating file ...')\n",
    "writer = open('./ratings_final_temp.txt', 'w', encoding='utf-8')\n",
    "user_cnt = 0\n",
    "user_index_old2new = dict()\n",
    "for user_index_old, pos_item_set in user_pos_ratings.items():\n",
    "    if user_index_old not in user_index_old2new:\n",
    "        user_index_old2new[user_index_old] = user_cnt\n",
    "        user_cnt += 1\n",
    "    user_index = user_index_old2new[user_index_old]\n",
    "\n",
    "    for item in pos_item_set:\n",
    "        writer.write('%d\\t%d\\t1\\n' % (user_index, int(item)))\n",
    "        \n",
    "    unwatched_set = item_set - pos_item_set\n",
    "    if user_index_old in user_neg_ratings:\n",
    "        unwatched_set -= user_neg_ratings[user_index_old]\n",
    "    for item in np.random.choice(list(unwatched_set), size=len(pos_item_set), replace=False):\n",
    "        writer.write('%d\\t%d\\t0\\n' % (user_index, item))\n",
    "writer.close()\n",
    "print('number of users: %d' % user_cnt)\n",
    "print('number of items: %d' % len(item_set))\n"
   ]
  },
  {
   "cell_type": "code",
   "execution_count": 14,
   "metadata": {},
   "outputs": [
    {
     "data": {
      "text/plain": [
       "{'0',\n",
       " '1009',\n",
       " '1015',\n",
       " '1016',\n",
       " '1022',\n",
       " '1250',\n",
       " '1267',\n",
       " '148',\n",
       " '1768',\n",
       " '1892',\n",
       " '1959',\n",
       " '2734',\n",
       " '3035',\n",
       " '47',\n",
       " '523',\n",
       " '591'}"
      ]
     },
     "execution_count": 14,
     "metadata": {},
     "output_type": "execute_result"
    }
   ],
   "source": [
    "user_pos_ratings[0]"
   ]
  },
  {
   "cell_type": "code",
   "execution_count": 15,
   "metadata": {},
   "outputs": [
    {
     "data": {
      "text/plain": [
       "{11,\n",
       " 24,\n",
       " 144,\n",
       " 173,\n",
       " 624,\n",
       " 893,\n",
       " 951,\n",
       " 1244,\n",
       " 1713,\n",
       " 1819,\n",
       " 2066,\n",
       " 2195,\n",
       " 2288,\n",
       " 2849,\n",
       " 2857,\n",
       " 3198}"
      ]
     },
     "execution_count": 15,
     "metadata": {},
     "output_type": "execute_result"
    }
   ],
   "source": [
    "user_neg_ratings[0]"
   ]
  },
  {
   "cell_type": "code",
   "execution_count": null,
   "metadata": {},
   "outputs": [],
   "source": []
  },
  {
   "cell_type": "code",
   "execution_count": null,
   "metadata": {},
   "outputs": [],
   "source": []
  }
 ],
 "metadata": {
  "interpreter": {
   "hash": "4bdffd226db74f32b1e67dcb50a117797eaf84ad68693423287fabc603b29d02"
  },
  "kernelspec": {
   "display_name": "Python 3.7.0 ('tf2.5')",
   "language": "python",
   "name": "python3"
  },
  "language_info": {
   "codemirror_mode": {
    "name": "ipython",
    "version": 3
   },
   "file_extension": ".py",
   "mimetype": "text/x-python",
   "name": "python",
   "nbconvert_exporter": "python",
   "pygments_lexer": "ipython3",
   "version": "3.7.0"
  },
  "orig_nbformat": 4
 },
 "nbformat": 4,
 "nbformat_minor": 2
}
